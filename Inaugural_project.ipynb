{
 "cells": [
  {
   "cell_type": "markdown",
   "id": "center-wright",
   "metadata": {},
   "source": [
    "# Inaugural Project - Housing demand and taxation\n",
    "### - *Mathilde Pilgaard, Klara Krogh Hammerum, Louise Albæk Jensen og Oluf Kelkjær*\n",
    "A given household can spend cash $m$ on either housing or consumption $c$. Quality of housing, $h$, grants household utility and has the cost $p_{h}$ which is subject to progressive taxation and morgage cost as by equation (\\ref{eq4}). The household aims to maximize utility such that optimal amounts of housing, $h^{*}$, and consumption, $c^{*}$, are met according to equation (\\ref{eq1}).\n",
    "\n",
    "\\begin{align}\n",
    "    c^{*},h^{*} & = \\underset{c, h}{\\operatorname{argmax}} c^{1-\\phi}h^{\\phi} \\label{eq1}\\tag{1} \\\\\n",
    "    &s.t.\\\\\n",
    "    \\tilde{p}_{h} &= p_{h}\\varepsilon \\label{eq2}\\tag{2} \\\\\n",
    "    m &= \\tau(p_{h},\\tilde{p}_{h})+c \\label{eq3}\\tag{3} \\\\\n",
    "    \\tau(p_{h},\\tilde{p}_{h})&=r p_{h}+\\tau^{g}\\tilde{p}_{h}+\\tau^{p}max\\{\\tilde{p}_{h}-\\bar{p},0\\} \\label{eq4}\\tag{4}\n",
    "\\end{align}\n",
    "\n",
    "The homes are taxed according to the public assesment being $\\tilde{p}_{h}$. The assesment is politically decided according to equation (\\ref{eq2}) by $\\varepsilon$. Available cash for a given household is split between housing costs and consumption. $r$ denotes the carrying interest for purchasing a home, and $\\tau^{g}$ denotes the base housing tax while the last element in equation (\\ref{eq4}) homes valued above a certain cutoff, $\\bar{p}$ are taxed at an additional rate $\\tau^{p}$\n",
    "\n"
   ]
  },
  {
   "cell_type": "markdown",
   "id": "broke-console",
   "metadata": {},
   "source": [
    "# Q1\n",
    "Construct a function that solves household's problem above. We let the market price of a home be equal to its quality:\n",
    "$$ p_{h}=h $$\n",
    "and assume that the household in question has cash-on-hand $m=0.5$. Notive that the monetary units is in millions DKK. In addition use the given parameter-values.\n",
    "Knowing that the marketprice of a home is equal to its quality, we can use a scalar solver using the problems monotonicity.\n",
    "$$ c = m - \\tau(p_{h},\\tilde{p}_{h})\\Leftrightarrow $$\n",
    "$$ c = m - rh-\\tau^{g}h\\varepsilon+\\tau^{p}max\\{h\\varepsilon-\\bar{p},0 \\}   $$\n",
    "meaning $c$ is implicit for a given level of $h$ through the budget constraint"
   ]
  },
  {
   "cell_type": "code",
   "execution_count": 1,
   "id": "becoming-classification",
   "metadata": {},
   "outputs": [],
   "source": [
    "# Importing relevant packages\n",
    "from scipy import optimize\n",
    "import numpy as np\n",
    "\n",
    "par1 = {'m':0.5,\n",
    "        'phi':0.3,\n",
    "        'epsilon': 0.5,\n",
    "        'r': 0.03,\n",
    "        'tau_g': 0.012,\n",
    "        'tau_p': 0.004,\n",
    "        'p_bar': 3\n",
    "}\n",
    "\n",
    "\n",
    "# Creating utility function\n",
    "def u_func(c, h, phi):\n",
    "    return c**(1-phi)*h**phi\n",
    "\n",
    "# Creating objective function to minimize\n",
    "def value_of_choice(h,m,phi,epsilon,r,tau_g, tau_p, p_bar):\n",
    "    c = m - r*h-tau_g*h*epsilon-tau_p*max(h*epsilon-p_bar,0)\n",
    "    return -u_func(c,h,phi)\n"
   ]
  },
  {
   "cell_type": "code",
   "execution_count": 2,
   "id": "occasional-diesel",
   "metadata": {},
   "outputs": [
    {
     "name": "stdout",
     "output_type": "stream",
     "text": [
      "---------------------------------------------------------------------------------------------------------\n",
      "For parameters:\n",
      "φ=0.300 m=0.500 ε=0.500 r=0.030 τᵍ=0.012 τᵖ=0.004\n",
      "The optimal allocation of ressources is consuming c=0.350 while buying a house of quality h=4.167 \n",
      "As the household pays no downpayment and only has to service interest-rate and housing taxes, the total spending amounts to:\n",
      "c=0.350 and buying a house of quality h=4.167 at a cost of 0.150 leaving excess mDKK of 0.000\n",
      "\n",
      "Above allocation of ressources results in a utility of 0.736\n",
      "---------------------------------------------------------------------------------------------------------\n"
     ]
    }
   ],
   "source": [
    "from scipy import optimize\n",
    "\n",
    "\n",
    "par1 = {'m':0.5,\n",
    "        'phi':0.3,\n",
    "        'epsilon': 0.5,\n",
    "        'r': 0.03,\n",
    "        'tau_g': 0.012,\n",
    "        'tau_p': 0.004,\n",
    "        'p_bar': 3\n",
    "}\n",
    "\n",
    "def u_optimizer(phi, m, epsilon, r, tau_g, tau_p, p_bar, print_res = False, **kwargs):\n",
    "    sol = optimize.minimize_scalar(lambda h: value_of_choice(h,phi, m, epsilon, r, tau_g, tau_p, p_bar),\n",
    "                                  method = 'bounded', bounds = (0,m*10))\n",
    "    h = sol.x\n",
    "    h_cost = r*h+tau_g*h*epsilon+tau_p*max(h*epsilon-p_bar,0) \n",
    "    c = m - h_cost\n",
    "    u = u_func(c,h,phi)\n",
    "    \n",
    "    \n",
    "    if print_res == True:\n",
    "        excess_dkk = m - h_cost - c\n",
    "        \n",
    "        text = f'---'*35\n",
    "        text += '\\nFor parameters:\\n'\n",
    "        text += f'\\u03C6={phi:.3f}'\n",
    "        text += f' m={m:.3f}'\n",
    "        text += f' \\u03B5={epsilon:.3f}'\n",
    "        text += f' r={r:.3f}'\n",
    "        text += f' \\u03C4ᵍ={tau_g:.3f}'\n",
    "        text += f' \\u03C4ᵖ={tau_p:.3f}'\n",
    "    \n",
    "        text += f'\\nThe optimal allocation of ressources is consuming c={c:.3f} while buying a house of quality h={h:.3f} \\n'\n",
    "        text += f'As the household pays no downpayment and only has to service interest-rate and housing taxes, the total spending amounts to:\\n'\n",
    "        text += f'c={c:.3f} and buying a house of quality h={h:.3f} at a cost of {h_cost:.3f} leaving excess mDKK of {excess_dkk:.3f}\\n\\n'\n",
    "        text += f'Above allocation of ressources results in a utility of {u:.3f}\\n'\n",
    "        text += f'---'*35\n",
    "        print(text)\n",
    "    \n",
    "    \n",
    "    return u, h, c\n",
    "\n",
    "u_star, h_star, c_star = u_optimizer(**par1, print_res = True)\n",
    "\n"
   ]
  },
  {
   "cell_type": "code",
   "execution_count": 5,
   "id": "funky-landscape",
   "metadata": {},
   "outputs": [
    {
     "name": "stderr",
     "output_type": "stream",
     "text": [
      "C:\\Users\\olufk\\Anaconda3\\lib\\site-packages\\ipykernel_launcher.py:17: RuntimeWarning: invalid value encountered in double_scalars\n"
     ]
    },
    {
     "data": {
      "text/plain": [
       "array([0.28000003, 0.28025206, 0.28050408, ..., 3.43079611, 3.43110389,\n",
       "       2.76400002])"
      ]
     },
     "execution_count": 5,
     "metadata": {},
     "output_type": "execute_result"
    }
   ],
   "source": [
    "import numpy as np\n",
    "N = 10000\n",
    "\n",
    "# Initializing storage\n",
    "m_array = np.linspace(0.4,4,N)\n",
    "h_stars = np.empty(N)\n",
    "c_stars = np.empty(N) \n",
    "u_stars = np.empty(N)\n",
    "\n",
    "# Excluding m in a new dictionary, such that it can be varied.\n",
    "par1_exc = par1.copy()\n",
    "del par1_exc['m']\n",
    "par1_exc\n",
    "\n",
    "for i, v in enumerate(m_array):\n",
    "    result_vector = u_optimizer(**par1_exc, m=v, print_res = False)\n",
    "    \n",
    "    # loading results\n",
    "    u_stars[i] = result_vector[0]\n",
    "    h_stars[i] = result_vector[1]\n",
    "    c_stars[i] = result_vector[2]\n",
    "    \n",
    "# print(u_stars)\n",
    "\n",
    "\n",
    "# Plot housing costs\n",
    "# I will probably sky-rocket or at least kink at some point.\n",
    "# Problem: c can be negative, shouldn't happen\n",
    "# Create bounds on h, such that cost of h can't exceed some limit.\n",
    "# Perhaps make the unknown h, such that c is selected and put boundary on such that c can't exceed m.\n",
    "\n",
    "c_stars"
   ]
  },
  {
   "cell_type": "code",
   "execution_count": 6,
   "id": "bored-assurance",
   "metadata": {},
   "outputs": [
    {
     "data": {
      "image/png": "[encoded data removed]",
      "text/plain": [
       "<Figure size 1440x360 with 2 Axes>"
      ]
     },
     "metadata": {
      "needs_background": "light"
     },
     "output_type": "display_data"
    }
   ],
   "source": [
    "import matplotlib.pyplot as plt\n",
    "\n",
    "fig = plt.figure(figsize=(20,5))# figsize is in inches\n",
    "\n",
    "ax = fig.add_subplot(1,2,1)\n",
    "ax.plot(c_stars,h_stars)\n",
    "ax.set_xlabel(f\"$c^\\star$\")\n",
    "ax.set_ylabel(f\"$h^\\star$\")\n",
    "ax.set_title(f'Value function')\n",
    "\n",
    "ax_right = fig.add_subplot(1,2,2)\n",
    "ax_right.plot(m_array,u_stars)\n",
    "ax_right.set_xlabel(f\"$m$\")\n",
    "ax_right.set_ylabel(f\"$u^\\star$\")\n",
    "ax_right.set_title(f'Consumption function')\n",
    "\n",
    "\n",
    "plt.show()"
   ]
  },
  {
   "cell_type": "code",
   "execution_count": 40,
   "id": "golden-monitoring",
   "metadata": {},
   "outputs": [
    {
     "data": {
      "text/plain": [
       "2.726625822432702"
      ]
     },
     "execution_count": 40,
     "metadata": {},
     "output_type": "execute_result"
    }
   ],
   "source": [
    "par1_exc = par1.copy()\n",
    "del par1_exc['m']\n",
    "par1_exc\n",
    "u_star, h_star, c_star = u_optimizer(**par1_exc, m=2)\n",
    "u_star"
   ]
  }
 ],
 "metadata": {
  "kernelspec": {
   "display_name": "Python 3",
   "language": "python",
   "name": "python3"
  },
  "language_info": {
   "codemirror_mode": {
    "name": "ipython",
    "version": 3
   },
   "file_extension": ".py",
   "mimetype": "text/x-python",
   "name": "python",
   "nbconvert_exporter": "python",
   "pygments_lexer": "ipython3",
   "version": "3.7.9"
  },
  "toc-autonumbering": false,
  "toc-showtags": false
 },
 "nbformat": 4,
 "nbformat_minor": 5
}
